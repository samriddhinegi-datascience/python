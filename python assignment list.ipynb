{
 "cells": [
  {
   "cell_type": "code",
   "execution_count": 1,
   "id": "f826cdb3-95df-44a6-af58-313d1e708605",
   "metadata": {},
   "outputs": [
    {
     "name": "stdout",
     "output_type": "stream",
     "text": [
      "[1, True, 'California', 'Ahemdabad']\n"
     ]
    }
   ],
   "source": [
    "#Write a Program to interchange first and last elements in a list\n",
    "\n",
    "l1=['Ahemdabad', True, 'California',1]\n",
    "l1[0]= 1\n",
    "l1[3]='Ahemdabad'\n",
    "print(l1)"
   ]
  },
  {
   "cell_type": "code",
   "execution_count": 2,
   "id": "795d5f5e-7daa-486b-a7e2-0e39e903711c",
   "metadata": {},
   "outputs": [
    {
     "name": "stdout",
     "output_type": "stream",
     "text": [
      "[1, 2, 4, 3, 5, 6]\n"
     ]
    }
   ],
   "source": [
    "#Program to swap two elements in a list\n",
    "l2=[1,2,3,4,5,6]\n",
    "l2[2]= 4\n",
    "l2[3]= 3\n",
    "print(l2)"
   ]
  },
  {
   "cell_type": "code",
   "execution_count": 3,
   "id": "c87fc8ff-9051-4892-95cb-7edd418bf6e4",
   "metadata": {},
   "outputs": [
    {
     "name": "stdout",
     "output_type": "stream",
     "text": [
      "['jhalak', 'samriddhi', 'rahul', 'rohan']\n"
     ]
    }
   ],
   "source": [
    "#Swap elements in String list\n",
    "l3=['samriddhi', 'jhalak', 'rahul', 'rohan']\n",
    "l3[0]='jhalak'\n",
    "l3[1]='samriddhi'\n",
    "print(l3)"
   ]
  },
  {
   "cell_type": "code",
   "execution_count": 4,
   "id": "c2da81f5-c64c-4476-8af7-775cf1a300ae",
   "metadata": {},
   "outputs": [
    {
     "name": "stdout",
     "output_type": "stream",
     "text": [
      "6\n"
     ]
    }
   ],
   "source": [
    "#Ways to find length of list\n",
    "l4=['cherry', 'apple','banana',1,2,3]\n",
    "print(len(l4))"
   ]
  },
  {
   "cell_type": "code",
   "execution_count": 5,
   "id": "feebf80b-d844-48df-bff7-03c7fdadceee",
   "metadata": {},
   "outputs": [
    {
     "name": "stdout",
     "output_type": "stream",
     "text": [
      "5\n"
     ]
    }
   ],
   "source": [
    "#Maximum of two numbers in Python\n",
    "l5=[4,5]\n",
    "print(max(l5))"
   ]
  },
  {
   "cell_type": "code",
   "execution_count": 6,
   "id": "dfe1b9c8-4baa-4125-9cf7-122a28135b5c",
   "metadata": {},
   "outputs": [
    {
     "name": "stdout",
     "output_type": "stream",
     "text": [
      "45\n"
     ]
    }
   ],
   "source": [
    "#Minimum of two numbers in Python\n",
    "l6=[45,54]\n",
    "print(min(l6))"
   ]
  },
  {
   "cell_type": "code",
   "execution_count": 7,
   "id": "d74fb1bb-fd4b-4610-99c5-1fb2b7f3c0a9",
   "metadata": {},
   "outputs": [
    {
     "name": "stdout",
     "output_type": "stream",
     "text": [
      "True\n"
     ]
    }
   ],
   "source": [
    "#Ways to check if element exists in list\n",
    "l7=[1,2,3,4,5,6]\n",
    "print(1 in l7)"
   ]
  },
  {
   "cell_type": "code",
   "execution_count": 8,
   "id": "bed36e23-163b-4415-84dd-2f5f9f84b234",
   "metadata": {},
   "outputs": [
    {
     "name": "stdout",
     "output_type": "stream",
     "text": [
      "[]\n"
     ]
    }
   ],
   "source": [
    "#Different ways to clear a list in Python\n",
    "#way 1\n",
    "l8=['apple','ball','cat','dog']\n",
    "l8.remove('apple')\n",
    "l8.remove('ball')\n",
    "l8.remove('cat')\n",
    "l8.remove('dog')\n",
    "print(l8)"
   ]
  },
  {
   "cell_type": "code",
   "execution_count": 32,
   "id": "5eedfa31-2c5f-451b-8c3f-6fd2a587877e",
   "metadata": {},
   "outputs": [
    {
     "name": "stdout",
     "output_type": "stream",
     "text": [
      "[]\n",
      "[]\n"
     ]
    }
   ],
   "source": [
    "#way 2\n",
    "l8=['apple','ball','cat','dog']\n",
    "l8.pop(0)\n",
    "l8.pop(0)\n",
    "l8.pop(0)\n",
    "l8.pop(0)\n",
    "print(l8)\n",
    "#or\n",
    "l8=['apple','ball','cat','dog']\n",
    "l8.pop()\n",
    "l8.pop()\n",
    "l8.pop()\n",
    "l8.pop()\n",
    "print(l8)"
   ]
  },
  {
   "cell_type": "code",
   "execution_count": 34,
   "id": "e8b30e8b-ea1b-4cf9-b25b-724981bd76f0",
   "metadata": {},
   "outputs": [
    {
     "name": "stdout",
     "output_type": "stream",
     "text": [
      "[]\n"
     ]
    }
   ],
   "source": [
    "#way3\n",
    "l8=['apple','ball','cat','dog']\n",
    "del l8[0:5]\n",
    "print(l8)"
   ]
  },
  {
   "cell_type": "code",
   "execution_count": 36,
   "id": "567529aa-6d65-4bf7-804a-c55e5e13fc81",
   "metadata": {},
   "outputs": [
    {
     "name": "stdout",
     "output_type": "stream",
     "text": [
      "[]\n"
     ]
    }
   ],
   "source": [
    "#way 4\n",
    "l8=['apple','ball','cat','dog']\n",
    "l8.clear()\n",
    "print(l8)"
   ]
  },
  {
   "cell_type": "code",
   "execution_count": 40,
   "id": "1cb7eece-c193-4dd8-8943-ffc0beeefd08",
   "metadata": {},
   "outputs": [
    {
     "name": "stdout",
     "output_type": "stream",
     "text": [
      "[8, 7, 6, 5, 4, 3, 2, 1]\n"
     ]
    }
   ],
   "source": [
    "#Reversing a List\n",
    "l9=[1,2,3,4,5,6,7,8]\n",
    "l9.sort(reverse=True)\n",
    "print(l9)"
   ]
  },
  {
   "cell_type": "code",
   "execution_count": 42,
   "id": "143feda6-06a8-40e7-8846-1616f8f1a1df",
   "metadata": {},
   "outputs": [
    {
     "name": "stdout",
     "output_type": "stream",
     "text": [
      "['samriddhi', 'negi', 'delhi', 'aaft']\n"
     ]
    }
   ],
   "source": [
    "#Cloning or Copying a list\n",
    "l10=['samriddhi','negi','delhi', 'aaft']\n",
    "x=l10.copy()\n",
    "print(x)"
   ]
  },
  {
   "cell_type": "code",
   "execution_count": 46,
   "id": "364751da-3a78-4de9-bd5f-4834a89a09c9",
   "metadata": {},
   "outputs": [
    {
     "name": "stdout",
     "output_type": "stream",
     "text": [
      "3\n"
     ]
    }
   ],
   "source": [
    "#Count occurrences of an element in a list\n",
    "l11=[24,36,48,102, 102, 102]\n",
    "print(l11.count(102))"
   ]
  },
  {
   "cell_type": "code",
   "execution_count": 52,
   "id": "64bcc4f6-56d2-404e-b238-8d52a8642283",
   "metadata": {},
   "outputs": [
    {
     "name": "stdout",
     "output_type": "stream",
     "text": [
      "414\n",
      "69.0\n"
     ]
    }
   ],
   "source": [
    "#Program to find sum and average of List in Python\n",
    "l12=[24,36,48,102, 102, 102]\n",
    "total=sum(l12)\n",
    "avg=total/len(l12)\n",
    "print(total)\n",
    "print(avg)"
   ]
  },
  {
   "cell_type": "code",
   "execution_count": 60,
   "id": "4b09e8f7-c8d5-41cd-bd7c-bb9c67f36653",
   "metadata": {},
   "outputs": [
    {
     "name": "stdout",
     "output_type": "stream",
     "text": [
      "15\n"
     ]
    }
   ],
   "source": [
    "#Sum of number digits in List\n",
    "l13=[1,6,8]\n",
    "print(sum(l13))"
   ]
  },
  {
   "cell_type": "code",
   "execution_count": 62,
   "id": "94630704-bb81-4e5d-8b49-d60e47d41021",
   "metadata": {},
   "outputs": [
    {
     "name": "stdout",
     "output_type": "stream",
     "text": [
      "3840\n"
     ]
    }
   ],
   "source": [
    "#Multiply all numbers in the list\n",
    "l14=[1,2,4,6,8,10]\n",
    "product=1*2*4*6*8*10\n",
    "print(product)"
   ]
  },
  {
   "cell_type": "code",
   "execution_count": 66,
   "id": "5b16b0bc-fb78-4075-af95-b627c1d38abb",
   "metadata": {},
   "outputs": [
    {
     "name": "stdout",
     "output_type": "stream",
     "text": [
      "1\n"
     ]
    }
   ],
   "source": [
    "#Program to find smallest number in a list\n",
    "l15=[1,2,3,4,5,6,7,8]\n",
    "print(min(l15))"
   ]
  },
  {
   "cell_type": "code",
   "execution_count": 68,
   "id": "1de7aecd-3f3d-4aea-b2ed-9caae4f2cbce",
   "metadata": {},
   "outputs": [
    {
     "name": "stdout",
     "output_type": "stream",
     "text": [
      "8\n"
     ]
    }
   ],
   "source": [
    "#Program to find largest number in a list\n",
    "l15=[1,2,3,4,5,6,7,8]\n",
    "print(max(l15))"
   ]
  },
  {
   "cell_type": "code",
   "execution_count": 72,
   "id": "94570dec-c08a-4f41-9390-7a9e950ded49",
   "metadata": {},
   "outputs": [
    {
     "name": "stdout",
     "output_type": "stream",
     "text": [
      "Second largest number: 9\n"
     ]
    }
   ],
   "source": [
    "#Program to find second largest number in a list\n",
    "l16=[1,2,3,4,5,6,7,8,9,10]\n",
    "second_largest = sorted(set(l16), reverse=True)[1]\n",
    "print(\"Second largest number:\", second_largest) \n"
   ]
  },
  {
   "cell_type": "code",
   "execution_count": 82,
   "id": "b00a853e-7d70-46a4-b39c-e2271fa9044d",
   "metadata": {},
   "outputs": [
    {
     "name": "stdout",
     "output_type": "stream",
     "text": [
      "2\n",
      "4\n",
      "6\n",
      "8\n",
      "10\n"
     ]
    }
   ],
   "source": [
    "#Program to print even numbers in a list\n",
    "l17=[1,2,3,4,5,6,7,8,9,10]\n",
    "for i in l17:\n",
    " if i%2==0:\n",
    "  print(i)"
   ]
  },
  {
   "cell_type": "code",
   "execution_count": 84,
   "id": "0cd375c7-08de-4bf7-ab28-96ff48df6b97",
   "metadata": {},
   "outputs": [
    {
     "name": "stdout",
     "output_type": "stream",
     "text": [
      "1\n",
      "3\n",
      "5\n",
      "7\n",
      "9\n"
     ]
    }
   ],
   "source": [
    "#Program to print odd numbers in a List\n",
    "l17=[1,2,3,4,5,6,7,8,9,10]\n",
    "for i in l17:\n",
    " if i%2!=0:\n",
    "  print(i)"
   ]
  },
  {
   "cell_type": "code",
   "execution_count": 86,
   "id": "36258f11-060b-4ce2-a85f-5f650e5ceeab",
   "metadata": {},
   "outputs": [
    {
     "name": "stdout",
     "output_type": "stream",
     "text": [
      "[2, 4, 6, 8]\n"
     ]
    }
   ],
   "source": [
    "#Program to print all even numbers in a range\n",
    "l18=[1, 2, 3, 4, 5, 6, 7, 8]\n",
    "even=[num for num in l18 if num % 2 == 0]\n",
    "print(even) "
   ]
  },
  {
   "cell_type": "code",
   "execution_count": 88,
   "id": "2410663c-2bb5-4c8d-b923-15beb2c36729",
   "metadata": {},
   "outputs": [
    {
     "name": "stdout",
     "output_type": "stream",
     "text": [
      "[1, 3, 5, 7]\n"
     ]
    }
   ],
   "source": [
    "#Program to print all odd numbers in a range\n",
    "l18=[1, 2, 3, 4, 5, 6, 7, 8]\n",
    "odd=[num for num in l18 if num % 2 != 0]\n",
    "print(odd) "
   ]
  },
  {
   "cell_type": "code",
   "execution_count": 92,
   "id": "07d4db34-3ad5-4363-85a7-9a9daa85a8b1",
   "metadata": {},
   "outputs": [
    {
     "name": "stdout",
     "output_type": "stream",
     "text": [
      "4\n",
      "4\n"
     ]
    }
   ],
   "source": [
    "#Program to count Even and Odd numbers in a List\n",
    "l19=[1, 2, 3, 4, 5, 6, 7, 8]\n",
    "even=[num for num in l19 if num % 2 == 0]\n",
    "odd=[num for num in l18 if num % 2 != 0]\n",
    "print(len(even))\n",
    "print(len(odd))      "
   ]
  },
  {
   "cell_type": "code",
   "execution_count": 94,
   "id": "357641f9-7429-4cdb-810d-f126a379b95a",
   "metadata": {},
   "outputs": [
    {
     "name": "stdout",
     "output_type": "stream",
     "text": [
      "1\n",
      "2\n",
      "4\n",
      "5\n",
      "8\n"
     ]
    }
   ],
   "source": [
    "#Program to print positive numbers in a list\n",
    "l20=[1, 2, -3, 4, 5, -6, -7, 8]\n",
    "for i in l20:\n",
    "  if i>0:\n",
    "    print(i)"
   ]
  },
  {
   "cell_type": "code",
   "execution_count": 96,
   "id": "cbb6bb26-a171-441a-bdeb-1afbf7ed99f9",
   "metadata": {},
   "outputs": [
    {
     "name": "stdout",
     "output_type": "stream",
     "text": [
      "-3\n",
      "-6\n",
      "-7\n"
     ]
    }
   ],
   "source": [
    "#Program to print negative numbers in a list\n",
    "l20=[1, 2, -3, 4, 5, -6, -7, 8]\n",
    "for i in l20:\n",
    "    if i<0:\n",
    "        print(i)"
   ]
  },
  {
   "cell_type": "code",
   "execution_count": 108,
   "id": "9f3b6f87-5d81-471e-b738-b00d17beb73f",
   "metadata": {},
   "outputs": [
    {
     "name": "stdout",
     "output_type": "stream",
     "text": [
      "[1, 2, 3]\n"
     ]
    }
   ],
   "source": [
    "#Program to print all positive numbers in a range\n",
    "l21=[-3,-2,-1,1,2,3]\n",
    "positive=[num for num in l21 if num>0]\n",
    "print(positive)"
   ]
  },
  {
   "cell_type": "code",
   "execution_count": 110,
   "id": "633ec5be-ee43-482d-8e10-0627cec76547",
   "metadata": {},
   "outputs": [
    {
     "name": "stdout",
     "output_type": "stream",
     "text": [
      "[-3, -2, -1]\n"
     ]
    }
   ],
   "source": [
    "#Program to print all negative numbers in a range\n",
    "l22=[-3,-2,-1,1,2,3]\n",
    "negative=[num for num in l22 if num<0]\n",
    "print(negative)"
   ]
  },
  {
   "cell_type": "code",
   "execution_count": 112,
   "id": "210974ee-57be-46ed-b4ad-d09c18a2f29b",
   "metadata": {},
   "outputs": [
    {
     "name": "stdout",
     "output_type": "stream",
     "text": [
      "4\n",
      "4\n"
     ]
    }
   ],
   "source": [
    "#Program to count positive and negative numbers in a list\n",
    "l23=[-4,-3,-2,-1,1,2,3,4]\n",
    "positive=[num for num in l23 if num>0]\n",
    "negative=[num for num in l23 if num<0]\n",
    "print(len(positive))\n",
    "print(len(negative))"
   ]
  },
  {
   "cell_type": "code",
   "execution_count": 114,
   "id": "ca5cece8-a06f-44dd-a077-cef82e20c1f5",
   "metadata": {},
   "outputs": [
    {
     "data": {
      "text/plain": [
       "[(1, 2), (3, 4), (5, 6)]"
      ]
     },
     "execution_count": 114,
     "metadata": {},
     "output_type": "execute_result"
    }
   ],
   "source": [
    "#Remove multiple elements from a list in Python\n",
    "L24=[1,2,3,4,5,6,7,8,9]\n",
    "del L24[3:]\n",
    "L1"
   ]
  },
  {
   "cell_type": "code",
   "execution_count": 118,
   "id": "278e61f8-3011-4114-9544-41f720c21748",
   "metadata": {},
   "outputs": [
    {
     "name": "stdout",
     "output_type": "stream",
     "text": [
      "[(1, 2), (3, 4), (5, 6)]\n"
     ]
    }
   ],
   "source": [
    "#Remove empty tuples from a list\n",
    "L25=[(1, 2),(),(3, 4),(5, 6)]\n",
    "L25=[tuple for tuple in L25 if tuple]\n",
    "print(L25)"
   ]
  },
  {
   "cell_type": "code",
   "execution_count": 120,
   "id": "a18866d9-ea47-446c-9943-5ddec25edb51",
   "metadata": {},
   "outputs": [
    {
     "name": "stdout",
     "output_type": "stream",
     "text": [
      "[2, 3, 4, 5]\n"
     ]
    }
   ],
   "source": [
    "#Program to print duplicates from a list of integers\n",
    "L26=[1,2,2,3,3,3,4,4,4,4,5,5,5,5,5]\n",
    "L27=[]\n",
    "L28=[]\n",
    "for i in L26:\n",
    "    if i not in L27:\n",
    "        L27.append(i)\n",
    "    elif i not in L28:\n",
    "        L28.append(i)\n",
    "print(L28)"
   ]
  },
  {
   "cell_type": "code",
   "execution_count": null,
   "id": "ded02bfb-f2e7-458a-a60f-a3ae99620af6",
   "metadata": {},
   "outputs": [],
   "source": []
  }
 ],
 "metadata": {
  "kernelspec": {
   "display_name": "Python 3 (ipykernel)",
   "language": "python",
   "name": "python3"
  },
  "language_info": {
   "codemirror_mode": {
    "name": "ipython",
    "version": 3
   },
   "file_extension": ".py",
   "mimetype": "text/x-python",
   "name": "python",
   "nbconvert_exporter": "python",
   "pygments_lexer": "ipython3",
   "version": "3.12.4"
  }
 },
 "nbformat": 4,
 "nbformat_minor": 5
}
